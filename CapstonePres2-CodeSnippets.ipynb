{
 "cells": [
  {
   "cell_type": "markdown",
   "metadata": {},
   "source": [
    "## Initial Set up\n",
    "Intitialize the necessary variables including a prime q, number of samples d, matrix a, errors e, and the secret."
   ]
  },
  {
   "cell_type": "code",
   "execution_count": 7,
   "metadata": {
    "scrolled": true
   },
   "outputs": [
    {
     "name": "stdout",
     "output_type": "stream",
     "text": [
      "secret: 71 \n",
      "\n",
      "prime: 127 \n",
      "\n",
      "a: [89, 34, 102, 40, 84] \n",
      "\n",
      "e: [0, 0, 0, -1, 1] \n",
      "\n"
     ]
    }
   ],
   "source": [
    "d = 5\n",
    "q = random_prime(2000, lbound=100)\n",
    "Z37 = Integers(q)\n",
    "Z3 = Integers(3)\n",
    "a = []\n",
    "e = []\n",
    "    \n",
    "for i in range(d):\n",
    "    a.append(Z37.random_element())\n",
    "    e.append(Integer((Z3.random_element()))-1)\n",
    "\n",
    "ZX37.<s> = PolynomialRing(Z37)\n",
    "\n",
    "secret = Z37.random_element()\n",
    "    \n",
    "print(\"secret:\",secret,\"\\n\")\n",
    "print(\"prime:\",q, \"\\n\")\n",
    "print(\"a:\",a,\"\\n\")\n",
    "print(\"e:\",e,\"\\n\")\n",
    "\n",
    "p = [Z37(0)] * d\n",
    "prime = []\n",
    "b = [Z37(0)] * d\n",
    "newc = []"
   ]
  },
  {
   "cell_type": "markdown",
   "metadata": {},
   "source": [
    "## Construct System of Equations\n",
    "Compute each entry of b, then subtract out each possible error. Multiply these polynomials together to obtain a new polynomial that must be zero when the variable s = secret.\n",
    "\n",
    "Put the coefficients in a matrix to prepare for Gaussian elimination (linearizes the variables - treats s^2 as it's own variable with no relation to s)."
   ]
  },
  {
   "cell_type": "code",
   "execution_count": 8,
   "metadata": {},
   "outputs": [
    {
     "name": "stdout",
     "output_type": "stream",
     "text": [
      "8*s^3 + 74*s^2 + 42*s + 85\n",
      "66*s^3 + 39*s^2 + 59*s\n",
      "4*s^3 + 37*s^2 + 15*s + 24\n",
      "8*s^3 + 100*s^2 + 118*s + 21\n",
      "5*s^3 + 37*s^2 + 116*s + 67\n"
     ]
    }
   ],
   "source": [
    "    for i in range(len(a)):\n",
    "        #could it be here that the construction fails??\n",
    "        b[i] = (a[i] * secret) + e[i]\n",
    "        prime.append((a[i] * secret) + e[i])\n",
    "        p1 = ZX37(b[i] - (a[i] * s))\n",
    "        p2 = ZX37(b[i] - (a[i] * s + 1))\n",
    "        p3 = ZX37(b[i] - (a[i] * s - 1))\n",
    "        p[i] = (p1 * p2 * p3)\n",
    "        print(p[i])\n",
    "        \n",
    "        c = []\n",
    "        for coeff in p[i]: \n",
    "            c.append(coeff)\n",
    "        if(c != []):\n",
    "            c.reverse()\n",
    "            #print(c)\n",
    "            c.append(q-(c[len(c) - 1]))\n",
    "            c[len(c) - 2 ] = 0\n",
    "            #print(c)\n",
    "            newc.append(c)"
   ]
  },
  {
   "cell_type": "markdown",
   "metadata": {},
   "source": [
    "## Checks for correct construction"
   ]
  },
  {
   "cell_type": "code",
   "execution_count": 11,
   "metadata": {},
   "outputs": [],
   "source": [
    "rows = len(newc)\n",
    "    \n",
    "M = MatrixSpace(Z37, rows, len(newc[0]))\n",
    "M2 = MatrixSpace(Z37, rows, 1)\n",
    "try:\n",
    "    C = M(newc)\n",
    "except ValueError:\n",
    "    errors = errors + 1\n",
    "    \n",
    "cols = len(C[0])\n",
    "    \n",
    "M3 = MatrixSpace(Z37, cols, 1)\n",
    "    \n",
    "checker = []\n",
    "for i in range(cols):\n",
    "    checker.append(secret**(i))\n",
    "checker = M3(checker.reverse())\n",
    "zeros = M2()"
   ]
  },
  {
   "cell_type": "markdown",
   "metadata": {},
   "source": [
    "## Final guess for the secret\n",
    "After performing Gaussion elimination, we have solved for s, s^2 and s^3. This step checks whether s is correct and if the correct relationship between solutions is obtained."
   ]
  },
  {
   "cell_type": "code",
   "execution_count": 12,
   "metadata": {},
   "outputs": [
    {
     "name": "stdout",
     "output_type": "stream",
     "text": [
      "c:\n",
      " [  8  74  42   0  42]\n",
      "[ 66  39  59   0   0]\n",
      "[  4  37  15   0 103]\n",
      "[  8 100 118   0 106]\n",
      "[  5  37 116   0  60] \n",
      "\n",
      "[ 1  0  0  0 25]\n",
      "[ 0  1  0  0 88]\n",
      "[ 0  0  1  0 71]\n",
      "[ 0  0  0  0  0]\n",
      "[ 0  0  0  0  0] \n",
      "\n",
      "You guessed: 71 \n",
      "\n",
      "The secret is: 71 \n",
      "\n"
     ]
    }
   ],
   "source": [
    "print(\"c:\\n\",C,\"\\n\")\n",
    "C = C.echelon_form()\n",
    "    \n",
    "print(C, \"\\n\")\n",
    "\n",
    "u1 = C[2, cols-1]\n",
    "u2 = C[1, cols-1]\n",
    "u3 = C[0, cols-1]\n",
    "    \n",
    "\n",
    "if u1 == secret:\n",
    "    #correct_secret = correct_secret + 1\n",
    "    print('You guessed:', u1, \"\\n\")\n",
    "    print('The secret is:', secret, \"\\n\")\n",
    "else:\n",
    "    print(u1, \"\\t\", secret,\"\\n\")"
   ]
  },
  {
   "cell_type": "markdown",
   "metadata": {},
   "source": [
    "## LWE with secret size 3\n",
    "\n",
    "Changes:\n",
    "- Each row in the A matrix now has 3 columns\n",
    "- The indeterminate used in the construction of the polynomials now has 3 distinct variables\n",
    "- Using Groebner bases instead of Gaussian elimination"
   ]
  },
  {
   "cell_type": "code",
   "execution_count": 16,
   "metadata": {},
   "outputs": [
    {
     "name": "stdout",
     "output_type": "stream",
     "text": [
      "secret: \n",
      " [454]\n",
      "[843]\n",
      "[772] \n",
      "\n",
      "prime: 1039 \n",
      "\n",
      "a: [[1032  267  841], [ 70 131 906], [966 369 108], [171 708 575], [574 828 359], [366 530 133], [ 89 850 603], [338 140 865], [671  57 134], [689 253 354], [133 857 440], [833 215  62], [132 455 834], [942  68 322], [ 22 981 276], [909 981 614], [439 143 646], [154 929 669], [1024  934  548], [852 175 760]] \n",
      "\n",
      "e: [0, -1, 1, 0, 0, 1, -1, -1, 1, -1, -1, 0, -1, -1, -1, 0, 1, 1, 1, -1] \n",
      "\n",
      "343*s1^3 + 233*s1^2*s2 + 909*s1*s2^2 + 317*s2^3 + 14*s1^2*s3 + 1010*s1*s2*s3 + 182*s2^2*s3 + 396*s1*s3^2 + 332*s2*s3^2 + 23*s3^3 + 957*s1^2 + 912*s1*s2 + 1012*s2^2 + 853*s1*s3 + 1009*s2*s3 + 338*s3^2 + 983*s1 + 58*s2 + 494*s3 + 155\n",
      "\n",
      "basis: [s1 + 585, s2 + 196, s3 + 267] \n",
      "\n",
      "You guessed: 454 843 772\n",
      "Secret:\n",
      " (454) (843) (772) \n",
      "\n",
      "----\n",
      "Secret correctly guessed: \t\t\t 1.00000000000000\n"
     ]
    }
   ],
   "source": [
    "import random\n",
    "\n",
    "correct_secret = 0\n",
    "ones_or_thirty_six = 0\n",
    "correct_relationship = 0\n",
    "errors = 0\n",
    "runs = 1\n",
    "\n",
    "def num_samples(degree, n):\n",
    "    return binomial(n + degree, degree)\n",
    "\n",
    "for i in range(runs):\n",
    "    #set up random variables\n",
    "    d = num_samples(3, 3)\n",
    "    q = random_prime(2000, lbound=100)\n",
    "    Z37 = Integers(q)\n",
    "    Z3 = Integers(3)\n",
    "    a = []\n",
    "    e = []\n",
    "    \n",
    "    S1 = MatrixSpace(Z37, 3, 1)\n",
    "    A1 = MatrixSpace(Z37, 1, 3)\n",
    "    \n",
    "    for i in range(d):\n",
    "        a.append(A1([Z37.random_element(), Z37.random_element(), Z37.random_element()]))\n",
    "        e.append(Integer((Z3.random_element()))-1)\n",
    "        \n",
    "    ZX37.<s1, s2, s3> = PolynomialRing(Z37, order='degrevlex')\n",
    "    \n",
    "    indet = [s1, s2, s3]\n",
    "\n",
    "    secret = S1([[Z37.random_element()], [Z37.random_element()], [Z37.random_element()]])\n",
    "    \n",
    "    print(\"secret: \\n\",secret,\"\\n\")\n",
    "    print(\"prime:\",q, \"\\n\")\n",
    "    print(\"a:\",a,\"\\n\")\n",
    "    print(\"e:\",e,\"\\n\")\n",
    "\n",
    "    p = [Z37(0)] * d\n",
    "    b = [Z37(0)] * d\n",
    "    newc = []\n",
    "\n",
    "    for i in range(len(a)):\n",
    "        #could it be here that the construction fails??\n",
    "        b[i] = (a[i] * secret) + e[i]\n",
    "        #print(b[i] - (a[i][0][0] * s1 + a[i][0][1] * s2))\n",
    "        p1 = ZX37((b[i] - (a[i][0][0] * s1 + a[i][0][1] * s2 + a[i][0][2] * s3))[0])\n",
    "        #p1 = ZX37((b[i] - (a[i] * indet)))\n",
    "        p2 = ZX37((b[i] - (a[i][0][0] * s1 + a[i][0][1] * s2 + a[i][0][2] * s3 + 1))[0])\n",
    "        p3 = ZX37((b[i] - (a[i][0][0] * s1 + a[i][0][1] * s2 + a[i][0][2] * s3 - 1))[0])\n",
    "        p[i] = (p1 * p2 * p3)\n",
    "\n",
    "        if(p[i](secret.list()[0], secret.list()[1], secret.list()[2]) != 0):\n",
    "            print(\"DUMMY\")\n",
    "    \n",
    "    print(p[0])\n",
    "    F = ideal(p)\n",
    "    \n",
    "    grob = F.groebner_basis()\n",
    "    print(\"\\nbasis:\",grob,\"\\n\")\n",
    "    \n",
    "    u1 = q - Integer(''.join(str(grob[0])[5:]))\n",
    "    u2 = q - Integer(''.join(str(grob[1])[5:]))\n",
    "    u3 = q - Integer(''.join(str(grob[2])[5:]))\n",
    "    print(\"You guessed:\", u1, u2, u3)\n",
    "    print(\"Secret:\\n\",secret[0], secret[1], secret[2],\"\\n\")\n",
    "    print(\"----\")\n",
    "    \n",
    "\n",
    "    if (u1 == secret.list()[0]) and (u2 == secret.list()[1]) and (u3 == secret.list()[2]):\n",
    "        correct_secret = correct_secret + 1\n",
    "\n",
    "    else:\n",
    "        print(q - u1, \"\\t\", secret)\n",
    "    \n",
    "print(\"Secret correctly guessed: \\t\\t\\t\",correct_secret * 1.0 / runs)"
   ]
  },
  {
   "cell_type": "code",
   "execution_count": null,
   "metadata": {},
   "outputs": [],
   "source": []
  }
 ],
 "metadata": {
  "kernelspec": {
   "display_name": "SageMath 9.1",
   "language": "sage",
   "name": "sagemath"
  },
  "language_info": {
   "codemirror_mode": {
    "name": "ipython",
    "version": 3
   },
   "file_extension": ".py",
   "mimetype": "text/x-python",
   "name": "python",
   "nbconvert_exporter": "python",
   "pygments_lexer": "ipython3",
   "version": "3.6.11"
  }
 },
 "nbformat": 4,
 "nbformat_minor": 2
}
